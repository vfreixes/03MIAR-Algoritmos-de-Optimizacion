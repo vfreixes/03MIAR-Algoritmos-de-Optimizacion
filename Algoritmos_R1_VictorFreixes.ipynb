{
 "cells": [
  {
   "cell_type": "markdown",
   "metadata": {
    "id": "kQn6fbhgtH9I"
   },
   "source": [
    "# Algoritmos de optimización - Reto 1\n",
    "\n",
    "Nombre: Victor Freixes Martinez<br> \n",
    "Github: <br>"
   ]
  },
  {
   "cell_type": "markdown",
   "metadata": {
    "id": "_t62Ge7ZuKnC"
   },
   "source": [
    "## Torres de Hanoi con Divide y vencerás\n",
    "\n",
    "Resuelve el problema de las [Torres de Hanoi](https://es.wikipedia.org/wiki/Torres_de_Han%C3%B3i) para un número arbitrario de fichas utilizando la técnica de divide y vencerás. "
   ]
  },
  {
   "cell_type": "code",
   "execution_count": 36,
   "metadata": {
    "colab": {
     "base_uri": "https://localhost:8080/"
    },
    "id": "i32G0CUQvauE",
    "outputId": "c3398cec-661d-46a5-b9db-0a0ad168f64a"
   },
   "outputs": [
    {
     "name": "stdout",
     "output_type": "stream",
     "text": [
      "Numero de fichas: 5\n",
      "Movemos ficha 1 desde 1 hasta 3\n",
      "Movemos ficha 2 desde 1 hasta 2\n",
      "Movemos ficha 1 desde 3 hasta 2\n",
      "Movemos ficha 3 desde 1 hasta 3\n",
      "Movemos ficha 1 desde 2 hasta 1\n",
      "Movemos ficha 2 desde 2 hasta 3\n",
      "Movemos ficha 1 desde 1 hasta 3\n",
      "Movemos ficha 4 desde 1 hasta 2\n",
      "Movemos ficha 1 desde 3 hasta 2\n",
      "Movemos ficha 2 desde 3 hasta 1\n",
      "Movemos ficha 1 desde 2 hasta 1\n",
      "Movemos ficha 3 desde 3 hasta 2\n",
      "Movemos ficha 1 desde 1 hasta 3\n",
      "Movemos ficha 2 desde 1 hasta 2\n",
      "Movemos ficha 1 desde 3 hasta 2\n",
      "Movemos ficha 5 desde 1 hasta 3\n",
      "Movemos ficha 1 desde 2 hasta 1\n",
      "Movemos ficha 2 desde 2 hasta 3\n",
      "Movemos ficha 1 desde 1 hasta 3\n",
      "Movemos ficha 3 desde 2 hasta 1\n",
      "Movemos ficha 1 desde 3 hasta 2\n",
      "Movemos ficha 2 desde 3 hasta 1\n",
      "Movemos ficha 1 desde 2 hasta 1\n",
      "Movemos ficha 4 desde 2 hasta 3\n",
      "Movemos ficha 1 desde 1 hasta 3\n",
      "Movemos ficha 2 desde 1 hasta 2\n",
      "Movemos ficha 1 desde 3 hasta 2\n",
      "Movemos ficha 3 desde 1 hasta 3\n",
      "Movemos ficha 1 desde 2 hasta 1\n",
      "Movemos ficha 2 desde 2 hasta 3\n",
      "Movemos ficha 1 desde 1 hasta 3\n",
      "Numero de fichas: 3\n",
      "Movemos ficha 1 desde 1 hasta 3\n",
      "Movemos ficha 2 desde 1 hasta 2\n",
      "Movemos ficha 1 desde 3 hasta 2\n",
      "Movemos ficha 3 desde 1 hasta 3\n",
      "Movemos ficha 1 desde 2 hasta 1\n",
      "Movemos ficha 2 desde 2 hasta 3\n",
      "Movemos ficha 1 desde 1 hasta 3\n"
     ]
    }
   ],
   "source": [
    "# Torres de Hanoi\n",
    "\n",
    "def torres_hanoi(fichas, torre_inicio, pivote, torre_fin):\n",
    "    if fichas != 0:\n",
    "        torres_hanoi(fichas-1,torre_inicio, torre_fin, pivote)\n",
    "        print(f\"Movemos ficha {fichas} desde {torre_inicio} hasta {torre_fin}\")\n",
    "        torres_hanoi(fichas-1, pivote, torre_inicio, torre_fin)\n",
    "\n",
    "\n",
    "print(\"Numero de fichas: 5\")\n",
    "torres_hanoi(5,1,2,3)\n",
    "\n",
    "print(\"Numero de fichas: 3\")\n",
    "torres_hanoi(3,1,2,3)"
   ]
  },
  {
   "cell_type": "markdown",
   "metadata": {},
   "source": [
    "## Sucesión de Fibonacci\n",
    "\n",
    "Cálcula el n-ésimo término de la [Sucesión de Fibonacci](https://es.wikipedia.org/wiki/Sucesi%C3%B3n_de_Fibonacci) mediante un algoritmo recursivo y otro iterativo. Representa gráficamente cómo crece el tiempo de cómputo en función del número de términos para ambos algoritmos. "
   ]
  },
  {
   "cell_type": "code",
   "execution_count": 68,
   "metadata": {
    "colab": {
     "base_uri": "https://localhost:8080/"
    },
    "id": "74qZZAekiNYR",
    "outputId": "acc17268-7f87-4de4-ae5a-4fc6ce09d385"
   },
   "outputs": [
    {
     "name": "stdout",
     "output_type": "stream",
     "text": [
      "Termino 10 con recursion: 55 \n",
      "Termino 10 con iteracion: 55 \n",
      "Termino 23 con recursion: 28657 \n",
      "Termino 23 con iteracion: 28657 \n"
     ]
    },
    {
     "data": {
      "image/png": "[encoded data removed]",
      "text/plain": [
       "<Figure size 640x480 with 1 Axes>"
      ]
     },
     "metadata": {},
     "output_type": "display_data"
    }
   ],
   "source": [
    "import matplotlib.pyplot as plt\n",
    "import time\n",
    "\n",
    "#Sucesión_de_Fibonacci\n",
    "def fibonacci_rec(n):\n",
    "    if n < 2:\n",
    "        return n\n",
    "    else:\n",
    "        return (fibonacci_rec(n-1) + fibonacci_rec(n-2))\n",
    "\n",
    "def fibonacci_iter(n):\n",
    "    fib = [0 , 1]\n",
    "    for i in range(2, n+1):\n",
    "        fib.append(fib[i-1] + fib[i-2])\n",
    "    return fib[n]\n",
    "\n",
    "nesimo = 10\n",
    "print(f\"Termino {nesimo} con recursion: {fibonacci_rec(nesimo)} \")\n",
    "print(f\"Termino {nesimo} con iteracion: {fibonacci_iter(nesimo)} \")\n",
    "\n",
    "nesimo = 23\n",
    "print(f\"Termino {nesimo} con recursion: {fibonacci_rec(nesimo)} \")\n",
    "print(f\"Termino {nesimo} con iteracion: {fibonacci_iter(nesimo)} \")\n",
    "\n",
    "max = 45 \n",
    "\n",
    "tiempos_rec = []\n",
    "tiempos_iter = []\n",
    "terminos = []\n",
    "\n",
    "for i in range(10, max+1, 5):\n",
    "    terminos.append(i)\n",
    "\n",
    "    start = time.time() \n",
    "    fibonacci_iter(i)\n",
    "    end = time.time() \n",
    "    tiempos_iter.append(end - start)\n",
    "\n",
    "    start = time.time() \n",
    "    fibonacci_rec(i)\n",
    "    end = time.time() \n",
    "    tiempos_rec.append(end - start)\n",
    "\n",
    "plt.title(\"Tiempo de ejecucion (s)\")\n",
    "plt.plot(terminos, tiempos_rec, label=\"Alg. Recursivo\")\n",
    "plt.plot(terminos, tiempos_iter, label=\"Alg. Iterativo\")\n",
    "plt.legend()\n",
    "plt.show()\n",
    "\n",
    "\n"
   ]
  },
  {
   "cell_type": "markdown",
   "metadata": {},
   "source": [
    "En en caso del algoritmo iterativo el calculo es tan rapido que el tiempo sale 0.\n",
    "Probando valores he visto que el tiempo es superior a 0 buscando los terminos por encima del 900, en este caso el recursivo es muy lento y por eso en la grafica se ha cortado a un valor muy inferior\n"
   ]
  },
  {
   "cell_type": "markdown",
   "metadata": {
    "id": "RgT5XJsZ429L"
   },
   "source": [
    "## Devolución de cambio por técnica voraz\n",
    "\n",
    "Resuelve el [Problema del Cambio de Moneda](https://es.wikipedia.org/wiki/Problema_de_cambio_de_monedas) utilizando una técnica voraz."
   ]
  },
  {
   "cell_type": "code",
   "execution_count": 3,
   "metadata": {
    "colab": {
     "base_uri": "https://localhost:8080/"
    },
    "id": "uJtftBLU4-ap",
    "outputId": "b52f7a2c-771b-4c2e-81ab-c4c3ea01318d"
   },
   "outputs": [
    {
     "name": "stdout",
     "output_type": "stream",
     "text": [
      "Total maquina: 4880\n",
      "Total a cambiar: 21\n",
      "[(20, 1), (1, 1)]\n",
      "Total maquina: 4880\n",
      "Total a cambiar: 433\n",
      "[(200, 2), (20, 1), (10, 1), (2, 1), (1, 1)]\n"
     ]
    }
   ],
   "source": [
    "# Problema del cambio de moneda\n",
    "\n",
    "#tipos de monedas disponibles y su cantidad\n",
    "denominaciones = [(1,10),\n",
    "                  (2,10),\n",
    "                  (5,10),\n",
    "                  (10,10),\n",
    "                  (20,10),\n",
    "                  (50,10),\n",
    "                  (100,10),\n",
    "                  (200,15)]\n",
    "\n",
    "\n",
    "def cambiar(denom, valor):\n",
    "\n",
    "    denom = sorted(denom, reverse=True) #ordenamos las monedas de mayor a menor valor\n",
    "    cambio = []\n",
    "    total_maquina = 0\n",
    "\n",
    "    for i in range(len(denom)):\n",
    "        total_maquina += denom[i][0]*denom[i][1] #calculamos el total de la maquina\n",
    "    print(f\"Total maquina: {total_maquina}\")\n",
    "    print(f\"Total a cambiar: {valor}\")\n",
    "    if total_maquina < valor: return \"No hay suficiente cambio\"\n",
    "\n",
    "    for i in range(len(denom)): # por cada denominacion calcularemos si podemos devolver algo\n",
    "        moneda = denom[i][0]\n",
    "        qty = 0;\n",
    "        while valor >= denom[i][0] and denom[i][1] > 0: #si tenemos monedas y estas son de menor o igual valor al restante podemos devolver\n",
    "            qty = qty + 1\n",
    "            denom[i] = (moneda, denom[i][1] - 1)\n",
    "            valor = valor - moneda\n",
    "\n",
    "        if qty !=0: cambio.append((moneda,qty))\n",
    "    if qty < valor: return \"No se puede devolver el cambio\"\n",
    "    return cambio\n",
    "\n",
    "#Devolvemos una lista con el tipo de moneda y la cantidad a devolver\n",
    "print(cambiar(denominaciones, 21))\n",
    "print(cambiar(denominaciones, 433))"
   ]
  },
  {
   "cell_type": "markdown",
   "metadata": {
    "id": "g8M9GTvy_Fa3"
   },
   "source": [
    "## N-Reinas por técnica de vuelta atrás\n",
    "Resuelve el [Problema de las N-Reinas](https://es.wikipedia.org/wiki/Problema_de_las_ocho_reinas) en un tablero de dimensión N mediante la técnica de la vuelta atrás (backtraking)."
   ]
  },
  {
   "cell_type": "code",
   "execution_count": 69,
   "metadata": {
    "id": "FqOPyCmv_K65"
   },
   "outputs": [
    {
     "name": "stdout",
     "output_type": "stream",
     "text": [
      "[2, 4, 1, 3]\n",
      "[3, 1, 4, 2]\n",
      "Total soluciones para 4 reinas: 2\n",
      "[2, 4, 6, 1, 3, 5]\n",
      "[3, 6, 2, 5, 1, 4]\n",
      "[4, 1, 5, 2, 6, 3]\n",
      "[5, 3, 1, 6, 4, 2]\n",
      "Total soluciones para 6 reinas: 4\n"
     ]
    }
   ],
   "source": [
    "# Problema de las N-Reinas\n",
    "def n_reinas(k, columna, diag45, diag135):\n",
    "    if k == reinas:\n",
    "        soluciones.append(solucion)\n",
    "        print(f\"{solucion}\")\n",
    "    else:\n",
    "        for i in range(1,reinas+1):\n",
    "            if (i not in columna) and ((i-k) not in diag45) and ((i+k) not in diag135):\n",
    "                solucion[k] = i\n",
    "                n_reinas(k+1,columna+[i],diag45+[i-k],diag135+[i+k])\n",
    "\n",
    "\n",
    "\n",
    "reinas = 4  #Numero de reinas i tamaño del tablero\n",
    "solucion = [None] * reinas\n",
    "soluciones = []\n",
    "n_reinas(0,[],[],[])\n",
    "print(f\"Total soluciones para {reinas} reinas: {len(soluciones)}\")\n",
    "\n",
    "\n",
    "\n",
    "reinas = 6\n",
    "solucion = [None] * reinas\n",
    "soluciones = []\n",
    "n_reinas(0,[],[],[])\n",
    "print(f\"Total soluciones para {reinas} reinas: {len(soluciones)}\")   "
   ]
  }
 ],
 "metadata": {
  "colab": {
   "provenance": [],
   "toc_visible": true
  },
  "kernelspec": {
   "display_name": "Python 3 (ipykernel)",
   "language": "python",
   "name": "python3"
  },
  "language_info": {
   "codemirror_mode": {
    "name": "ipython",
    "version": 3
   },
   "file_extension": ".py",
   "mimetype": "text/x-python",
   "name": "python",
   "nbconvert_exporter": "python",
   "pygments_lexer": "ipython3",
   "version": "3.9.18"
  }
 },
 "nbformat": 4,
 "nbformat_minor": 1
}
